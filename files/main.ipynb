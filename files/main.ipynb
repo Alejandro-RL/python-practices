{
 "cells": [
  {
   "attachments": {},
   "cell_type": "markdown",
   "metadata": {},
   "source": [
    "# Fundamentos de GIT\n",
    "## Alejandro da Rocha Loureiro\n",
    "## Erik Felipe Viana Rocha"
   ]
  },
  {
   "cell_type": "code",
   "execution_count": 127,
   "metadata": {},
   "outputs": [],
   "source": [
    "from megabyte import megabyte\n",
    "from porcentagem import porcentagem\n",
    "import sys"
   ]
  },
  {
   "cell_type": "code",
   "execution_count": 50,
   "metadata": {},
   "outputs": [],
   "source": [
    "# Leitura do arquivo \n",
    "path = 'usuarios.txt'\n",
    "users = []\n",
    "with open(path) as file:\n",
    "    for line in file:\n",
    "        users.append(line)\n",
    "\n"
   ]
  },
  {
   "cell_type": "code",
   "execution_count": 51,
   "metadata": {},
   "outputs": [],
   "source": [
    "users = [x.replace('\\n','') for x in users]\n",
    "users = [x.split(' ') for x in users]\n"
   ]
  },
  {
   "cell_type": "code",
   "execution_count": 71,
   "metadata": {},
   "outputs": [
    {
     "data": {
      "text/plain": [
       "['alexandre',\n",
       " '456123789',\n",
       " 'anderson',\n",
       " '1245698456',\n",
       " 'antonio',\n",
       " '123456456',\n",
       " 'carlos',\n",
       " '91257581',\n",
       " 'cesar',\n",
       " '987458',\n",
       " 'rosemary',\n",
       " '789456125']"
      ]
     },
     "execution_count": 71,
     "metadata": {},
     "output_type": "execute_result"
    }
   ],
   "source": [
    "users = [x for line in users for x in line if x]"
   ]
  },
  {
   "cell_type": "code",
   "execution_count": 90,
   "metadata": {},
   "outputs": [],
   "source": [
    "resultado = []\n",
    "total = 0\n",
    "for i in range(0,len(users),2):\n",
    "    linha = []\n",
    "    linha.append(users[i])\n",
    "    total += megabyte(int(users[i+1]))\n",
    "    linha.append(megabyte(int(users[i+1])))\n",
    "    resultado.append(linha)\n",
    "\n",
    "\n",
    "for i in resultado:\n",
    "    i.append(porcentagem(i[1],total))\n"
   ]
  },
  {
   "cell_type": "code",
   "execution_count": 91,
   "metadata": {},
   "outputs": [
    {
     "data": {
      "text/plain": [
       "[['alexandre', 434.9935426712036, 16.84991436018679],\n",
       " ['anderson', 1187.990623474121, 46.018017056805846],\n",
       " ['antonio', 117.73725128173828, 4.560671381277526],\n",
       " ['carlos', 87.03001117706299, 3.3711954115329186],\n",
       " ['cesar', 0.9417133331298828, 0.03647821739523725],\n",
       " ['rosemary', 752.884030342102, 29.163723572801675]]"
      ]
     },
     "execution_count": 91,
     "metadata": {},
     "output_type": "execute_result"
    }
   ],
   "source": [
    "resultado"
   ]
  },
  {
   "cell_type": "code",
   "execution_count": 128,
   "metadata": {},
   "outputs": [],
   "source": [
    "original_stdout = sys.stdout\n",
    "\n",
    "with open(\"relatorio.txt\",\"w\") as f:\n",
    "    sys.stdout = f\n",
    "    print('ACME Inc.               Uso do espaço em disco pelos usuários')\n",
    "    print('------------------------------------------------------------------------')\n",
    "    print('Nr.  Usuário        Espaço utilizado     % do uso\\n')\n",
    "    total = 0\n",
    "    for i in range(len(resultado)):\n",
    "        s = ''\n",
    "        total += resultado[i][1]\n",
    "        for j in range(15 - len(resultado[i][0])):\n",
    "            s += ' '\n",
    "        \n",
    "        \n",
    "        print(f'{i+1}    {resultado[i][0]+s}    {resultado[i][1]:.2f} MB             {resultado[i][2]:.2f}%')\n",
    "\n",
    "    print(f'\\nEspaço total ocupado: {total:.2f} MB')\n",
    "    print(f'Espaço médio ocupado:{(total/len(resultado)):.2f} MB')\n",
    "    sys.stdout = original_stdout\n",
    "        "
   ]
  },
  {
   "cell_type": "code",
   "execution_count": 125,
   "metadata": {},
   "outputs": [
    {
     "name": "stdout",
     "output_type": "stream",
     "text": [
      "ACME Inc.               Uso do espaço em disco pelos usuários\n",
      "------------------------------------------------------------------------\n",
      "Nr.  Usuário        Espaço utilizado     % do uso\n",
      "\n",
      "1    alexandre          434.99 MB             16.85%\n",
      "2    anderson           1187.99 MB             46.02%\n",
      "3    antonio            117.74 MB             4.56%\n",
      "4    carlos             87.03 MB             3.37%\n",
      "5    cesar              0.94 MB             0.04%\n",
      "6    rosemary           752.88 MB             29.16%\n",
      "\n",
      "Espaço total ocupado: 2581.58 MB\n",
      "Espaço médio ocupado:430.26 MB\n"
     ]
    }
   ],
   "source": [
    "print('ACME Inc.               Uso do espaço em disco pelos usuários')\n",
    "print('------------------------------------------------------------------------')\n",
    "print('Nr.  Usuário        Espaço utilizado     % do uso\\n')\n",
    "total = 0\n",
    "for i in range(len(resultado)):\n",
    "    s = ''\n",
    "    total += resultado[i][1]\n",
    "    for j in range(15 - len(resultado[i][0])):\n",
    "        s += ' '\n",
    "    \n",
    "    \n",
    "    print(f'{i+1}    {resultado[i][0]+s}    {resultado[i][1]:.2f} MB             {resultado[i][2]:.2f}%')\n",
    "\n",
    "print(f'\\nEspaço total ocupado: {total:.2f} MB')\n",
    "print(f'Espaço médio ocupado:{(total/len(resultado)):.2f} MB')"
   ]
  }
 ],
 "metadata": {
  "kernelspec": {
   "display_name": "Python 3",
   "language": "python",
   "name": "python3"
  },
  "language_info": {
   "codemirror_mode": {
    "name": "ipython",
    "version": 3
   },
   "file_extension": ".py",
   "mimetype": "text/x-python",
   "name": "python",
   "nbconvert_exporter": "python",
   "pygments_lexer": "ipython3",
   "version": "3.10.6"
  },
  "orig_nbformat": 4
 },
 "nbformat": 4,
 "nbformat_minor": 2
}
